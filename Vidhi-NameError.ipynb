{
 "cells": [
  {
   "cell_type": "markdown",
   "metadata": {},
   "source": [
    "# PART A\n",
    "\n",
    "The game is that the computer \"thinks\" about a number and we have to guess it. On every guess, the\n",
    "computer will tell us if our guess was smaller or bigger than the hidden number. The game ends when\n",
    "we find the number.Also Define no of attemps took to find this hidden number.(Hidden number lies\n",
    "between 0 - 100)"
   ]
  },
  {
   "cell_type": "code",
   "execution_count": 7,
   "metadata": {},
   "outputs": [
    {
     "name": "stdout",
     "output_type": "stream",
     "text": [
      "The Computer has taken the Hidden number \n",
      "Now its your chance to guess it\n",
      "\n",
      "Enter the value =55\n",
      "The Guessed number is greater\n",
      "\n",
      "Enter the value =45\n",
      "The Guessed number is greater\n",
      "\n",
      "Enter the value =25\n",
      "The Guessed number is greater\n",
      "\n",
      "Enter the value =15\n",
      "The Guessed number is greater\n",
      "\n",
      "Enter the value =10\n",
      "The Guessed number is greater\n",
      "\n",
      "Enter the value =5\n",
      "The Guessed number is greater\n",
      "\n",
      "Enter the value =3\n",
      "The Guessed number is smaller\n",
      "\n",
      "Enter the value =4\n",
      "The Match is found\n",
      "\n",
      "Your Total attempt was  8\n"
     ]
    }
   ],
   "source": [
    "import random                 #Package taken Random to get the random number from the range \n",
    "a=random.randint(1,101)       #Picked the random integer and stored it in a \n",
    "print(\"The Computer has taken the Hidden number \\nNow its your chance to guess it\\n\") #normal print statement just to inform user about the hidden nummber is taken by computer\n",
    "for i in range(1,101):        #The loop must be maintained because the user has to guess the number from the given range\n",
    "    b=int(input(\"Enter the value =\")) #allows the user to enter the number taken by computer\n",
    "    if b>a:                       #if guessed number is greate then hidden number\n",
    "        print(\"The Guessed number is greater\\n\") #prints number is greater\n",
    "    elif b<a:                    #if guessed number is smaller then then the hidden number\n",
    "        print(\"The Guessed number is smaller\\n\") #prints number is smaller\n",
    "    elif b==a:                   #if the guessed number is same as the hidden number\n",
    "        print(\"The Match is found\\n\") #prints the match is found\n",
    "        break                      #get out of the loop\n",
    "b=int(i)                          #this will store the number of times the loop has been executed and store it in b\n",
    "print(\"Your Total attempt was \",b) #prints total number of attempts the user has taken"
   ]
  },
  {
   "cell_type": "markdown",
   "metadata": {},
   "source": [
    "# PART B\n",
    "\n",
    "Develop a Python Program which prints factorial of a given number (Number should be User defined)"
   ]
  },
  {
   "cell_type": "code",
   "execution_count": 6,
   "metadata": {},
   "outputs": [
    {
     "name": "stdout",
     "output_type": "stream",
     "text": [
      "Enter a number = 5\n",
      "The factorial of 5 is 120\n"
     ]
    }
   ],
   "source": [
    "v=int(input(\"Enter a number = \")) #takes the input integer from the user\n",
    "f=1                               #The f is declared and assigned to 1 \n",
    "if v==0:                          #if entered number is equal to 0\n",
    "    print(\"The Factorial of 0 is 1\") #It will print factorial of 0 is 1\n",
    "else:                               #otherwise\n",
    "     for i in range(1,v+1):         #is will run the number of times the user has enter number in loop\n",
    "              f=f*i                 #in loop it will multiply the number i with predefine f and store it in f this will be repeated the times user entered number \n",
    "print(\"The factorial of {} is {}\".format(v,f))  #it will print the number and factorial of it"
   ]
  },
  {
   "cell_type": "code",
   "execution_count": null,
   "metadata": {},
   "outputs": [],
   "source": []
  }
 ],
 "metadata": {
  "kernelspec": {
   "display_name": "Python 3",
   "language": "python",
   "name": "python3"
  },
  "language_info": {
   "codemirror_mode": {
    "name": "ipython",
    "version": 3
   },
   "file_extension": ".py",
   "mimetype": "text/x-python",
   "name": "python",
   "nbconvert_exporter": "python",
   "pygments_lexer": "ipython3",
   "version": "3.7.6"
  }
 },
 "nbformat": 4,
 "nbformat_minor": 4
}
